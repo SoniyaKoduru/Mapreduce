{
  "nbformat": 4,
  "nbformat_minor": 0,
  "metadata": {
    "colab": {
      "provenance": [],
      "authorship_tag": "ABX9TyNrf6M4TNdhICcpctmAekEO",
      "include_colab_link": true
    },
    "kernelspec": {
      "name": "python3",
      "display_name": "Python 3"
    },
    "language_info": {
      "name": "python"
    }
  },
  "cells": [
    {
      "cell_type": "markdown",
      "metadata": {
        "id": "view-in-github",
        "colab_type": "text"
      },
      "source": [
        "<a href=\"https://colab.research.google.com/github/SoniyaKoduru/Mapreduce/blob/main/690_HM1.ipynb\" target=\"_parent\"><img src=\"https://colab.research.google.com/assets/colab-badge.svg\" alt=\"Open In Colab\"/></a>"
      ]
    },
    {
      "cell_type": "code",
      "source": [
        "# Installing required libraries & packages\n",
        "!pip install textblob\n",
        "!python -m textblob.download_corpora\n",
        "!pip install googletrans==4.0.0-rc1\n",
        "\n",
        "# importing translator class from google transalion API's package called google trans\n",
        "from googletrans import Translator\n",
        "\n",
        "# Initializing the Translator class\n",
        "translator = Translator()\n",
        "\n",
        "# Defining the sentence to be translated\n",
        "Given_text = \"Who knew translation could be fun\"\n",
        "\n",
        "# Traslating the given sentence into required languages\n",
        "French_Text = translator.translate(Given_text,dest='fr').text\n",
        "Mandarin_Text = translator.translate(Given_text,dest='zh-CN').text\n",
        "Hindi_Text = translator.translate(Given_text,dest='hi').text\n",
        "\n",
        "# Printing the translated text\n",
        "print(f\"Given Text : {Given_text}\")\n",
        "print(f\"\\nTransalted Text\\nFrench:   {French_Text}\")\n",
        "print(f\"Mandarin: {Mandarin_Text}\")\n",
        "print(f\"Hindi:    {Hindi_Text}\")"
      ],
      "metadata": {
        "colab": {
          "base_uri": "https://localhost:8080/"
        },
        "id": "QLT2EwMt06NX",
        "outputId": "da8fb25d-35f6-4b84-ee94-3781bdfd6b64"
      },
      "execution_count": null,
      "outputs": [
        {
          "output_type": "stream",
          "name": "stdout",
          "text": [
            "Given Text : Who knew translation could be fun\n",
            "\n",
            "Transalted Text\n",
            "French:   Qui savait que la traduction pouvait être amusante\n",
            "Mandarin: 谁知道翻译可能很有趣\n",
            "Hindi:    कौन जानता था कि अनुवाद मजेदार हो सकता है\n"
          ]
        }
      ]
    }
  ]
}